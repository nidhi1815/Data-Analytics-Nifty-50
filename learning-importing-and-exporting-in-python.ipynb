{
 "cells": [
  {
   "cell_type": "code",
   "execution_count": 23,
   "id": "1285e627",
   "metadata": {},
   "outputs": [
    {
     "name": "stdout",
     "output_type": "stream",
     "text": [
      "      Price  Age      KM FuelType   HP  MetColor  Automatic    CC  Doors  \\\n",
      "0      7750   43  178858      CNG  110         0          0  1600      3   \n",
      "1     11950   39   98823      CNG  110         1          0  1600      5   \n",
      "2     11950   37   82743      CNG  110         1          0  1600      5   \n",
      "3     14950   44   71793      CNG  110         1          0  1600      4   \n",
      "4     12950   44   41499      CNG  110         1          0  1600      5   \n",
      "...     ...  ...     ...      ...  ...       ...        ...   ...    ...   \n",
      "1431   7500   69   20544   Petrol   86         1          0  1300      3   \n",
      "1432  10845   72   19000   Petrol   86         0          0  1300      3   \n",
      "1433   8500   71   17016   Petrol   86         0          0  1300      3   \n",
      "1434   7250   70   16916   Petrol   86         1          0  1300      3   \n",
      "1435   6950   76       1   Petrol  110         0          0  1600      5   \n",
      "\n",
      "      Weight  \n",
      "0       1084  \n",
      "1       1119  \n",
      "2       1121  \n",
      "3       1067  \n",
      "4       1103  \n",
      "...      ...  \n",
      "1431    1025  \n",
      "1432    1015  \n",
      "1433    1015  \n",
      "1434    1015  \n",
      "1435    1114  \n",
      "\n",
      "[1436 rows x 10 columns]\n"
     ]
    }
   ],
   "source": [
    "import pandas as pd\n",
    "file_path = r\"C:\\Users\\nidhi\\OneDrive\\Desktop\\projects\\DA\\Toyota.csv.csv\"\n",
    "#Read the CSV file\n",
    "toyota = pd.read_csv(file_path)\n",
    "# Print the DataFrame\n",
    "print(toyota)\n"
   ]
  },
  {
   "cell_type": "code",
   "execution_count": 7,
   "id": "ab606abc",
   "metadata": {},
   "outputs": [
    {
     "name": "stdout",
     "output_type": "stream",
     "text": [
      "   Price  Age      KM FuelType   HP  MetColor  Automatic    CC  Doors  Weight\n",
      "0   7750   43  178858      CNG  110         0          0  1600      3    1084\n",
      "1  11950   39   98823      CNG  110         1          0  1600      5    1119\n",
      "2  11950   37   82743      CNG  110         1          0  1600      5    1121\n",
      "3  14950   44   71793      CNG  110         1          0  1600      4    1067\n",
      "4  12950   44   41499      CNG  110         1          0  1600      5    1103\n"
     ]
    }
   ],
   "source": [
    "#displaying first five rows of data file\n",
    "print( toyota.head())"
   ]
  },
  {
   "cell_type": "code",
   "execution_count": 10,
   "id": "f9c64658",
   "metadata": {},
   "outputs": [
    {
     "name": "stdout",
     "output_type": "stream",
     "text": [
      "      Price  Age     KM FuelType   HP  MetColor  Automatic    CC  Doors  \\\n",
      "1431   7500   69  20544   Petrol   86         1          0  1300      3   \n",
      "1432  10845   72  19000   Petrol   86         0          0  1300      3   \n",
      "1433   8500   71  17016   Petrol   86         0          0  1300      3   \n",
      "1434   7250   70  16916   Petrol   86         1          0  1300      3   \n",
      "1435   6950   76      1   Petrol  110         0          0  1600      5   \n",
      "\n",
      "      Weight  \n",
      "1431    1025  \n",
      "1432    1015  \n",
      "1433    1015  \n",
      "1434    1015  \n",
      "1435    1114  \n"
     ]
    }
   ],
   "source": [
    "#displaying last five rows of data file\n",
    "print( toyota.tail())"
   ]
  },
  {
   "cell_type": "code",
   "execution_count": 12,
   "id": "4836916f",
   "metadata": {},
   "outputs": [
    {
     "name": "stdout",
     "output_type": "stream",
     "text": [
      "   Price  Age      KM FuelType   HP  MetColor  Automatic    CC  Doors  Weight\n",
      "0   7750   43  178858      CNG  110         0          0  1600      3    1084\n",
      "1  11950   39   98823      CNG  110         1          0  1600      5    1119\n",
      "2  11950   37   82743      CNG  110         1          0  1600      5    1121\n",
      "3  14950   44   71793      CNG  110         1          0  1600      4    1067\n",
      "   Price  Age      KM FuelType   HP  MetColor  Automatic    CC  Doors  Weight\n",
      "4  12950   44   41499      CNG  110         1          0  1600      5    1103\n",
      "5   8500   55  150000      CNG  110         1          0  1600      3    1075\n",
      "6   9250   48  142130      CNG  110         0          0  1600      5    1119\n",
      "7  11500   47   78785      CNG  110         1          0  1600      5    1119\n",
      "8   8450   64  144000      CNG  110         1          0  1600      3    1065\n",
      "9   8950   59  137050      CNG  110         1          0  1600      3    1078\n"
     ]
    }
   ],
   "source": [
    "#to display intermediate lines of data\n",
    "file_path = r\"C:\\Users\\nidhi\\OneDrive\\Desktop\\projects\\DA\\Toyota.csv.csv\"\n",
    "#Read the CSV file\n",
    "toyota = pd.read_csv(file_path) #alredy done writing just for referance\n",
    "# Print the Data\n",
    "print (toyota[0:4]) #first 4 observations\n",
    "print(toyota[4:10]) #5th to 9th observations"
   ]
  },
  {
   "cell_type": "code",
   "execution_count": 13,
   "id": "3199f71d",
   "metadata": {},
   "outputs": [
    {
     "data": {
      "text/html": [
       "<div>\n",
       "<style scoped>\n",
       "    .dataframe tbody tr th:only-of-type {\n",
       "        vertical-align: middle;\n",
       "    }\n",
       "\n",
       "    .dataframe tbody tr th {\n",
       "        vertical-align: top;\n",
       "    }\n",
       "\n",
       "    .dataframe thead th {\n",
       "        text-align: right;\n",
       "    }\n",
       "</style>\n",
       "<table border=\"1\" class=\"dataframe\">\n",
       "  <thead>\n",
       "    <tr style=\"text-align: right;\">\n",
       "      <th></th>\n",
       "      <th>Price</th>\n",
       "      <th>Age</th>\n",
       "      <th>KM</th>\n",
       "      <th>FuelType</th>\n",
       "      <th>HP</th>\n",
       "      <th>MetColor</th>\n",
       "      <th>Automatic</th>\n",
       "      <th>CC</th>\n",
       "      <th>Doors</th>\n",
       "      <th>Weight</th>\n",
       "    </tr>\n",
       "  </thead>\n",
       "  <tbody>\n",
       "    <tr>\n",
       "      <th>4</th>\n",
       "      <td>12950</td>\n",
       "      <td>44</td>\n",
       "      <td>41499</td>\n",
       "      <td>CNG</td>\n",
       "      <td>110</td>\n",
       "      <td>1</td>\n",
       "      <td>0</td>\n",
       "      <td>1600</td>\n",
       "      <td>5</td>\n",
       "      <td>1103</td>\n",
       "    </tr>\n",
       "    <tr>\n",
       "      <th>5</th>\n",
       "      <td>8500</td>\n",
       "      <td>55</td>\n",
       "      <td>150000</td>\n",
       "      <td>CNG</td>\n",
       "      <td>110</td>\n",
       "      <td>1</td>\n",
       "      <td>0</td>\n",
       "      <td>1600</td>\n",
       "      <td>3</td>\n",
       "      <td>1075</td>\n",
       "    </tr>\n",
       "    <tr>\n",
       "      <th>6</th>\n",
       "      <td>9250</td>\n",
       "      <td>48</td>\n",
       "      <td>142130</td>\n",
       "      <td>CNG</td>\n",
       "      <td>110</td>\n",
       "      <td>0</td>\n",
       "      <td>0</td>\n",
       "      <td>1600</td>\n",
       "      <td>5</td>\n",
       "      <td>1119</td>\n",
       "    </tr>\n",
       "    <tr>\n",
       "      <th>7</th>\n",
       "      <td>11500</td>\n",
       "      <td>47</td>\n",
       "      <td>78785</td>\n",
       "      <td>CNG</td>\n",
       "      <td>110</td>\n",
       "      <td>1</td>\n",
       "      <td>0</td>\n",
       "      <td>1600</td>\n",
       "      <td>5</td>\n",
       "      <td>1119</td>\n",
       "    </tr>\n",
       "    <tr>\n",
       "      <th>8</th>\n",
       "      <td>8450</td>\n",
       "      <td>64</td>\n",
       "      <td>144000</td>\n",
       "      <td>CNG</td>\n",
       "      <td>110</td>\n",
       "      <td>1</td>\n",
       "      <td>0</td>\n",
       "      <td>1600</td>\n",
       "      <td>3</td>\n",
       "      <td>1065</td>\n",
       "    </tr>\n",
       "    <tr>\n",
       "      <th>9</th>\n",
       "      <td>8950</td>\n",
       "      <td>59</td>\n",
       "      <td>137050</td>\n",
       "      <td>CNG</td>\n",
       "      <td>110</td>\n",
       "      <td>1</td>\n",
       "      <td>0</td>\n",
       "      <td>1600</td>\n",
       "      <td>3</td>\n",
       "      <td>1078</td>\n",
       "    </tr>\n",
       "  </tbody>\n",
       "</table>\n",
       "</div>"
      ],
      "text/plain": [
       "   Price  Age      KM FuelType   HP  MetColor  Automatic    CC  Doors  Weight\n",
       "4  12950   44   41499      CNG  110         1          0  1600      5    1103\n",
       "5   8500   55  150000      CNG  110         1          0  1600      3    1075\n",
       "6   9250   48  142130      CNG  110         0          0  1600      5    1119\n",
       "7  11500   47   78785      CNG  110         1          0  1600      5    1119\n",
       "8   8450   64  144000      CNG  110         1          0  1600      3    1065\n",
       "9   8950   59  137050      CNG  110         1          0  1600      3    1078"
      ]
     },
     "execution_count": 13,
     "metadata": {},
     "output_type": "execute_result"
    }
   ],
   "source": [
    "toyota[4:10]"
   ]
  },
  {
   "cell_type": "code",
   "execution_count": 22,
   "id": "c9cbb49f",
   "metadata": {},
   "outputs": [],
   "source": [
    "#for exporting one file to another\n",
    "# Assuming dframe is your DataFrame\n",
    "dframe = pd.DataFrame({'Column1': [1, 2, 3], 'Column2': ['A', 'B', 'C']})\n",
    "\n",
    "# Export dframe DataFrame to a CSV file named \"nidhi.csv\"\n",
    "dframe.to_csv('nidhi.csv', index=False)"
   ]
  },
  {
   "cell_type": "code",
   "execution_count": 26,
   "id": "ec1c310e",
   "metadata": {},
   "outputs": [
    {
     "name": "stdout",
     "output_type": "stream",
     "text": [
      "<class 'pandas.core.frame.DataFrame'>\n",
      "RangeIndex: 1436 entries, 0 to 1435\n",
      "Data columns (total 10 columns):\n",
      " #   Column     Non-Null Count  Dtype \n",
      "---  ------     --------------  ----- \n",
      " 0   Price      1436 non-null   int64 \n",
      " 1   Age        1436 non-null   int64 \n",
      " 2   KM         1436 non-null   int64 \n",
      " 3   FuelType   1436 non-null   object\n",
      " 4   HP         1436 non-null   int64 \n",
      " 5   MetColor   1436 non-null   int64 \n",
      " 6   Automatic  1436 non-null   int64 \n",
      " 7   CC         1436 non-null   int64 \n",
      " 8   Doors      1436 non-null   int64 \n",
      " 9   Weight     1436 non-null   int64 \n",
      "dtypes: int64(9), object(1)\n",
      "memory usage: 112.3+ KB\n",
      "None\n"
     ]
    }
   ],
   "source": [
    "file_path = r\"C:\\Users\\nidhi\\OneDrive\\Desktop\\projects\\DA\\Toyota.csv.csv\"\n",
    "#Read the CSV file\n",
    "toyota = pd.read_csv(file_path) #alredy done writing just for referance\n",
    "print(toyota.info())"
   ]
  },
  {
   "cell_type": "code",
   "execution_count": 28,
   "id": "a870a5fa",
   "metadata": {},
   "outputs": [
    {
     "name": "stdout",
     "output_type": "stream",
     "text": [
      "0       1084\n",
      "1       1119\n",
      "2       1121\n",
      "3       1067\n",
      "4       1103\n",
      "        ... \n",
      "1431    1025\n",
      "1432    1015\n",
      "1433    1015\n",
      "1434    1015\n",
      "1435    1114\n",
      "Name: Weight, Length: 1436, dtype: int64\n"
     ]
    }
   ],
   "source": [
    "file_path = r\"C:\\Users\\nidhi\\OneDrive\\Desktop\\projects\\DA\\Toyota.csv.csv\"\n",
    "toyota = pd.read_csv(file_path) \n",
    "weight = toyota['Weight']\n",
    "print(weight)"
   ]
  },
  {
   "cell_type": "code",
   "execution_count": 29,
   "id": "fd3951cb",
   "metadata": {},
   "outputs": [
    {
     "name": "stdout",
     "output_type": "stream",
     "text": [
      "0    1084\n",
      "1    1119\n",
      "2    1121\n",
      "3    1067\n",
      "4    1103\n",
      "Name: Weight, dtype: int64\n"
     ]
    }
   ],
   "source": [
    "print( weight.head())"
   ]
  },
  {
   "cell_type": "code",
   "execution_count": 31,
   "id": "1b90e44b",
   "metadata": {},
   "outputs": [
    {
     "name": "stdout",
     "output_type": "stream",
     "text": [
      "   Price  Age      KM\n",
      "0   7750   43  178858\n",
      "1  11950   39   98823\n",
      "2  11950   37   82743\n",
      "3  14950   44   71793\n",
      "4  12950   44   41499\n"
     ]
    }
   ],
   "source": [
    "file_path = r\"C:\\Users\\nidhi\\OneDrive\\Desktop\\projects\\DA\\Toyota.csv.csv\"\n",
    "toyota = pd.read_csv(file_path) \n",
    "subset = toyota[['Price','Age','KM']]\n",
    "print( subset.head())\n"
   ]
  },
  {
   "cell_type": "code",
   "execution_count": 32,
   "id": "1a01f48f",
   "metadata": {},
   "outputs": [
    {
     "name": "stdout",
     "output_type": "stream",
     "text": [
      "Price          7750\n",
      "Age              43\n",
      "KM           178858\n",
      "FuelType        CNG\n",
      "HP              110\n",
      "MetColor          0\n",
      "Automatic         0\n",
      "CC             1600\n",
      "Doors             3\n",
      "Weight         1084\n",
      "Name: 0, dtype: object\n"
     ]
    }
   ],
   "source": [
    "print( toyota.loc[0])"
   ]
  },
  {
   "cell_type": "code",
   "execution_count": 33,
   "id": "4a40ba1f",
   "metadata": {},
   "outputs": [
    {
     "name": "stdout",
     "output_type": "stream",
     "text": [
      "    Price  Age      KM FuelType   HP  MetColor  Automatic    CC  Doors  Weight\n",
      "0    7750   43  178858      CNG  110         0          0  1600      3    1084\n",
      "99   6950   58  205000   Diesel   72         1          0  2000      4    1100\n",
      "10   7950   67  135337      CNG  110         1          0  1600      5    1120\n"
     ]
    }
   ],
   "source": [
    "print( toyota.loc[[0,99,10]])"
   ]
  },
  {
   "cell_type": "code",
   "execution_count": 34,
   "id": "14ebc45b",
   "metadata": {},
   "outputs": [
    {
     "data": {
      "text/plain": [
       "Price          6950\n",
       "Age              58\n",
       "KM           205000\n",
       "FuelType     Diesel\n",
       "HP               72\n",
       "MetColor          1\n",
       "Automatic         0\n",
       "CC             2000\n",
       "Doors             4\n",
       "Weight         1100\n",
       "Name: 99, dtype: object"
      ]
     },
     "execution_count": 34,
     "metadata": {},
     "output_type": "execute_result"
    }
   ],
   "source": [
    "toyota.iloc[99] #100th row"
   ]
  },
  {
   "cell_type": "code",
   "execution_count": 35,
   "id": "b94273d6",
   "metadata": {},
   "outputs": [
    {
     "data": {
      "text/plain": [
       "Price          6950\n",
       "Age              76\n",
       "KM                1\n",
       "FuelType     Petrol\n",
       "HP              110\n",
       "MetColor          0\n",
       "Automatic         0\n",
       "CC             1600\n",
       "Doors             5\n",
       "Weight         1114\n",
       "Name: 1435, dtype: object"
      ]
     },
     "execution_count": 35,
     "metadata": {},
     "output_type": "execute_result"
    }
   ],
   "source": [
    "toyota.iloc[-1] #last row , this we can't do with loc"
   ]
  },
  {
   "cell_type": "code",
   "execution_count": 39,
   "id": "4472da3c",
   "metadata": {},
   "outputs": [
    {
     "name": "stdout",
     "output_type": "stream",
     "text": [
      "   Age  Price\n",
      "0   43   7750\n",
      "1   39  11950\n",
      "2   37  11950\n",
      "3   44  14950\n",
      "4   44  12950\n",
      "      Age  Price\n",
      "1431   69   7500\n",
      "1432   72  10845\n",
      "1433   71   8500\n",
      "1434   70   7250\n",
      "1435   76   6950\n"
     ]
    }
   ],
   "source": [
    "subset=toyota.loc[:,['Age','Price']]#for rows\n",
    "print(subset.head())\n",
    "print(subset.tail())"
   ]
  },
  {
   "cell_type": "code",
   "execution_count": 41,
   "id": "fba7022a",
   "metadata": {},
   "outputs": [
    {
     "name": "stdout",
     "output_type": "stream",
     "text": [
      "          KM   HP  Weight\n",
      "0     178858  110    1084\n",
      "1      98823  110    1119\n",
      "2      82743  110    1121\n",
      "3      71793  110    1067\n",
      "4      41499  110    1103\n",
      "...      ...  ...     ...\n",
      "1431   20544   86    1025\n",
      "1432   19000   86    1015\n",
      "1433   17016   86    1015\n",
      "1434   16916   86    1015\n",
      "1435       1  110    1114\n",
      "\n",
      "[1436 rows x 3 columns]\n"
     ]
    }
   ],
   "source": [
    "#for columns\n",
    "subset=toyota.iloc[:,[2,4,-1]]\n",
    "print(subset)"
   ]
  },
  {
   "cell_type": "code",
   "execution_count": 42,
   "id": "c80b98b6",
   "metadata": {},
   "outputs": [
    {
     "name": "stdout",
     "output_type": "stream",
     "text": [
      "[0, 1, 2, 3, 4]\n"
     ]
    }
   ],
   "source": [
    "small_range= list(range(5))\n",
    "print( small_range)"
   ]
  },
  {
   "cell_type": "code",
   "execution_count": 45,
   "id": "d88a43fa",
   "metadata": {},
   "outputs": [
    {
     "name": "stdout",
     "output_type": "stream",
     "text": [
      "   Price  Age      KM FuelType   HP\n",
      "0   7750   43  178858      CNG  110\n",
      "1  11950   39   98823      CNG  110\n",
      "2  11950   37   82743      CNG  110\n",
      "3  14950   44   71793      CNG  110\n",
      "4  12950   44   41499      CNG  110\n"
     ]
    }
   ],
   "source": [
    "small_range= list(range(5))\n",
    "subset=toyota.iloc[:, small_range]\n",
    "print(subset.head())"
   ]
  },
  {
   "cell_type": "code",
   "execution_count": 47,
   "id": "adfbac96",
   "metadata": {},
   "outputs": [
    {
     "name": "stdout",
     "output_type": "stream",
     "text": [
      "CNG\n"
     ]
    }
   ],
   "source": [
    "print( toyota.loc[5 ,'FuelType'])"
   ]
  },
  {
   "cell_type": "code",
   "execution_count": 49,
   "id": "0fc54823",
   "metadata": {},
   "outputs": [
    {
     "name": "stdout",
     "output_type": "stream",
     "text": [
      "     Age FuelType  MetColor\n",
      "0     43      CNG         0\n",
      "99    58   Diesel         1\n",
      "999   61   Petrol         1\n"
     ]
    }
   ],
   "source": [
    "#particular rows and columns\n",
    "print( toyota.iloc[[0,99,999] ,[1,3,5]]) #isme column no ki jagah derect column name bhi de skte hai"
   ]
  },
  {
   "cell_type": "code",
   "execution_count": 52,
   "id": "192cd6f8",
   "metadata": {},
   "outputs": [
    {
     "name": "stdout",
     "output_type": "stream",
     "text": [
      "FuelType\n",
      "CNG        9421.176471\n",
      "Diesel    11294.554839\n",
      "Petrol    10679.310127\n",
      "Name: Price, dtype: float64\n"
     ]
    }
   ],
   "source": [
    "print(toyota.groupby('FuelType')['Price'].mean())"
   ]
  },
  {
   "cell_type": "code",
   "execution_count": 57,
   "id": "e5a2c23b",
   "metadata": {},
   "outputs": [
    {
     "name": "stdout",
     "output_type": "stream",
     "text": [
      "FuelType\n",
      "CNG       16\n",
      "Diesel    56\n",
      "Petrol    76\n",
      "Name: Age, dtype: int64\n"
     ]
    }
   ],
   "source": [
    "import pandas as pd\n",
    "print(toyota.groupby('FuelType')['Age'].nunique())"
   ]
  },
  {
   "cell_type": "code",
   "execution_count": null,
   "id": "4e3e027c",
   "metadata": {},
   "outputs": [],
   "source": []
  }
 ],
 "metadata": {
  "kernelspec": {
   "display_name": "Python 3 (ipykernel)",
   "language": "python",
   "name": "python3"
  },
  "language_info": {
   "codemirror_mode": {
    "name": "ipython",
    "version": 3
   },
   "file_extension": ".py",
   "mimetype": "text/x-python",
   "name": "python",
   "nbconvert_exporter": "python",
   "pygments_lexer": "ipython3",
   "version": "3.10.9"
  }
 },
 "nbformat": 4,
 "nbformat_minor": 5
}
